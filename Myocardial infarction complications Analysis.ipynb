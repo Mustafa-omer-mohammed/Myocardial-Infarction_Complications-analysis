{
 "cells": [
  {
   "cell_type": "markdown",
   "metadata": {},
   "source": [
    "## Problem specification and Data set Description"
   ]
  },
  {
   "cell_type": "markdown",
   "metadata": {},
   "source": [
    "Problems of real-life complexity are needed to test and compare various data mining and pattern recognition methods. The proposed database can be used to solve two practically important problems: predicting complications of Myocardial Infarction (MI) based on information about the patient \n",
    "- at the time of admission and \n",
    "- on the third day of the hospital period. Another important group of tasks is phenotyping of disease (cluster analysis), dynamic phenotyping (filament extraction and identification of disease trajectories) and visualisation (disease mapping).\n",
    "\n",
    "MI is one of the most challenging problems of modern medicine. Acute myocardial infarction is associated with high mortality in the first year after it. The incidence of MI remains high in all countries. This is especially true for the urban population of highly developed countries, which is exposed to chronic stress factors, irregular and not always balanced nutrition. In the United States, for example, more than a million people suffer from MI every year, and 200-300 thousand of them die from acute MI before arriving at the hospital.\n",
    "The course of the disease in patients with MI is different. MI can occur without complications or with complications that do not worsen the long-term prognosis. At the same time, about half of patients in the acute and subacute periods have complications that lead to worsening of the disease and even death. Even an experienced specialist can not always foresee the development of these complications. In this regard, predicting complications of myocardial infarction in order to timely carry out the necessary preventive measures is an important task.\n",
    "\n",
    "Problems to solve\n",
    "In general columns 2-112 can be used as input data for prediction. Possible complications (outputs) are listed in columns 113-124.\n",
    "There are four possible time moments for complication prediction: on base of the information known at\n",
    "1. the time of admission to hospital: \n",
    "    \n",
    "    all input columns (2-112) except 93, 94, 95, 100, 101, 102, 103, 104, 105 can be used for prediction;\n",
    "2. the end of the first day (24 hours after admission to the hospital):\n",
    "    \n",
    "    all input columns (2-112) except 94, 95, 101, 102, 104, 105 can be used for prediction;\n",
    "3. the end of the second day (48 hours after admission to the hospital) :\n",
    "    \n",
    "    all input columns (2-112) except 95, 102, 105 can be used for prediction;\n",
    "4. the end of the third day (72 hours after admission to the hospital):\n",
    "    \n",
    "    all input columns (2-112) can be used for prediction."
   ]
  },
  {
   "cell_type": "markdown",
   "metadata": {},
   "source": [
    "## Importing the Required Libraries"
   ]
  },
  {
   "cell_type": "code",
   "execution_count": 1,
   "metadata": {},
   "outputs": [],
   "source": [
    "import pandas as pd # algebraic computations , read and write to csv \n",
    "\n",
    "import numpy as np # linear algebra and arrays muniplication \n",
    "\n",
    "import time                               # measure excution time of some functions\n",
    "\n",
    "############  importing the data visualization libraries :##############\n",
    "\n",
    "import matplotlib.pyplot as plt\n",
    "import seaborn as sns\n",
    "\n",
    "############  Import Classifiers #################\n",
    "\n",
    "from sklearn.svm import LinearSVC\n",
    "from sklearn.linear_model import LogisticRegressionCV\n",
    "from sklearn.naive_bayes import BernoulliNB\n",
    "\n",
    "# Importing a model to split the training set from the evaluation set\n",
    "from sklearn.model_selection import train_test_split \n",
    "\n",
    "############  Evaluation Metric  #################\n",
    "from sklearn.metrics import f1_score , make_scorer\n",
    "\n",
    "############  GridSearchCV #################\n",
    "from sklearn.model_selection import GridSearchCV"
   ]
  },
  {
   "cell_type": "markdown",
   "metadata": {},
   "source": [
    "### 1- Data Exploration"
   ]
  },
  {
   "cell_type": "code",
   "execution_count": 2,
   "metadata": {},
   "outputs": [],
   "source": [
    "# read the data set and save it in a Pandas Data frame format \n",
    "df = pd.read_csv('./Myocardial infarction complications Database.csv')"
   ]
  },
  {
   "cell_type": "code",
   "execution_count": 3,
   "metadata": {},
   "outputs": [
    {
     "data": {
      "text/html": [
       "<div>\n",
       "<style scoped>\n",
       "    .dataframe tbody tr th:only-of-type {\n",
       "        vertical-align: middle;\n",
       "    }\n",
       "\n",
       "    .dataframe tbody tr th {\n",
       "        vertical-align: top;\n",
       "    }\n",
       "\n",
       "    .dataframe thead th {\n",
       "        text-align: right;\n",
       "    }\n",
       "</style>\n",
       "<table border=\"1\" class=\"dataframe\">\n",
       "  <thead>\n",
       "    <tr style=\"text-align: right;\">\n",
       "      <th></th>\n",
       "      <th>ID</th>\n",
       "      <th>AGE</th>\n",
       "      <th>SEX</th>\n",
       "      <th>INF_ANAM</th>\n",
       "      <th>STENOK_AN</th>\n",
       "      <th>FK_STENOK</th>\n",
       "      <th>IBS_POST</th>\n",
       "      <th>IBS_NASL</th>\n",
       "      <th>GB</th>\n",
       "      <th>SIM_GIPERT</th>\n",
       "      <th>...</th>\n",
       "      <th>JELUD_TAH</th>\n",
       "      <th>FIBR_JELUD</th>\n",
       "      <th>A_V_BLOK</th>\n",
       "      <th>OTEK_LANC</th>\n",
       "      <th>RAZRIV</th>\n",
       "      <th>DRESSLER</th>\n",
       "      <th>ZSN</th>\n",
       "      <th>REC_IM</th>\n",
       "      <th>P_IM_STEN</th>\n",
       "      <th>LET_IS</th>\n",
       "    </tr>\n",
       "  </thead>\n",
       "  <tbody>\n",
       "    <tr>\n",
       "      <th>0</th>\n",
       "      <td>1</td>\n",
       "      <td>77.0</td>\n",
       "      <td>1</td>\n",
       "      <td>2.0</td>\n",
       "      <td>1.0</td>\n",
       "      <td>1.0</td>\n",
       "      <td>2.0</td>\n",
       "      <td>NaN</td>\n",
       "      <td>3.0</td>\n",
       "      <td>0.0</td>\n",
       "      <td>...</td>\n",
       "      <td>0</td>\n",
       "      <td>0</td>\n",
       "      <td>0</td>\n",
       "      <td>0</td>\n",
       "      <td>0</td>\n",
       "      <td>0</td>\n",
       "      <td>0</td>\n",
       "      <td>0</td>\n",
       "      <td>0</td>\n",
       "      <td>0</td>\n",
       "    </tr>\n",
       "    <tr>\n",
       "      <th>1</th>\n",
       "      <td>2</td>\n",
       "      <td>55.0</td>\n",
       "      <td>1</td>\n",
       "      <td>1.0</td>\n",
       "      <td>0.0</td>\n",
       "      <td>0.0</td>\n",
       "      <td>0.0</td>\n",
       "      <td>0.0</td>\n",
       "      <td>0.0</td>\n",
       "      <td>0.0</td>\n",
       "      <td>...</td>\n",
       "      <td>0</td>\n",
       "      <td>0</td>\n",
       "      <td>0</td>\n",
       "      <td>0</td>\n",
       "      <td>0</td>\n",
       "      <td>0</td>\n",
       "      <td>0</td>\n",
       "      <td>0</td>\n",
       "      <td>0</td>\n",
       "      <td>0</td>\n",
       "    </tr>\n",
       "    <tr>\n",
       "      <th>2</th>\n",
       "      <td>3</td>\n",
       "      <td>52.0</td>\n",
       "      <td>1</td>\n",
       "      <td>0.0</td>\n",
       "      <td>0.0</td>\n",
       "      <td>0.0</td>\n",
       "      <td>2.0</td>\n",
       "      <td>NaN</td>\n",
       "      <td>2.0</td>\n",
       "      <td>0.0</td>\n",
       "      <td>...</td>\n",
       "      <td>0</td>\n",
       "      <td>0</td>\n",
       "      <td>0</td>\n",
       "      <td>0</td>\n",
       "      <td>0</td>\n",
       "      <td>0</td>\n",
       "      <td>0</td>\n",
       "      <td>0</td>\n",
       "      <td>0</td>\n",
       "      <td>0</td>\n",
       "    </tr>\n",
       "    <tr>\n",
       "      <th>3</th>\n",
       "      <td>4</td>\n",
       "      <td>68.0</td>\n",
       "      <td>0</td>\n",
       "      <td>0.0</td>\n",
       "      <td>0.0</td>\n",
       "      <td>0.0</td>\n",
       "      <td>2.0</td>\n",
       "      <td>NaN</td>\n",
       "      <td>2.0</td>\n",
       "      <td>0.0</td>\n",
       "      <td>...</td>\n",
       "      <td>0</td>\n",
       "      <td>0</td>\n",
       "      <td>0</td>\n",
       "      <td>0</td>\n",
       "      <td>0</td>\n",
       "      <td>0</td>\n",
       "      <td>1</td>\n",
       "      <td>0</td>\n",
       "      <td>0</td>\n",
       "      <td>0</td>\n",
       "    </tr>\n",
       "    <tr>\n",
       "      <th>4</th>\n",
       "      <td>5</td>\n",
       "      <td>60.0</td>\n",
       "      <td>1</td>\n",
       "      <td>0.0</td>\n",
       "      <td>0.0</td>\n",
       "      <td>0.0</td>\n",
       "      <td>2.0</td>\n",
       "      <td>NaN</td>\n",
       "      <td>3.0</td>\n",
       "      <td>0.0</td>\n",
       "      <td>...</td>\n",
       "      <td>0</td>\n",
       "      <td>0</td>\n",
       "      <td>0</td>\n",
       "      <td>0</td>\n",
       "      <td>0</td>\n",
       "      <td>0</td>\n",
       "      <td>0</td>\n",
       "      <td>0</td>\n",
       "      <td>0</td>\n",
       "      <td>0</td>\n",
       "    </tr>\n",
       "  </tbody>\n",
       "</table>\n",
       "<p>5 rows × 124 columns</p>\n",
       "</div>"
      ],
      "text/plain": [
       "   ID   AGE  SEX  INF_ANAM  STENOK_AN  FK_STENOK  IBS_POST  IBS_NASL   GB  \\\n",
       "0   1  77.0    1       2.0        1.0        1.0       2.0       NaN  3.0   \n",
       "1   2  55.0    1       1.0        0.0        0.0       0.0       0.0  0.0   \n",
       "2   3  52.0    1       0.0        0.0        0.0       2.0       NaN  2.0   \n",
       "3   4  68.0    0       0.0        0.0        0.0       2.0       NaN  2.0   \n",
       "4   5  60.0    1       0.0        0.0        0.0       2.0       NaN  3.0   \n",
       "\n",
       "   SIM_GIPERT  ...  JELUD_TAH  FIBR_JELUD  A_V_BLOK  OTEK_LANC  RAZRIV  \\\n",
       "0         0.0  ...          0           0         0          0       0   \n",
       "1         0.0  ...          0           0         0          0       0   \n",
       "2         0.0  ...          0           0         0          0       0   \n",
       "3         0.0  ...          0           0         0          0       0   \n",
       "4         0.0  ...          0           0         0          0       0   \n",
       "\n",
       "   DRESSLER  ZSN  REC_IM  P_IM_STEN  LET_IS  \n",
       "0         0    0       0          0       0  \n",
       "1         0    0       0          0       0  \n",
       "2         0    0       0          0       0  \n",
       "3         0    1       0          0       0  \n",
       "4         0    0       0          0       0  \n",
       "\n",
       "[5 rows x 124 columns]"
      ]
     },
     "execution_count": 3,
     "metadata": {},
     "output_type": "execute_result"
    }
   ],
   "source": [
    "df.head(5)"
   ]
  },
  {
   "cell_type": "code",
   "execution_count": 4,
   "metadata": {},
   "outputs": [
    {
     "name": "stdout",
     "output_type": "stream",
     "text": [
      "<class 'pandas.core.frame.DataFrame'>\n",
      "RangeIndex: 1700 entries, 0 to 1699\n",
      "Columns: 124 entries, ID to LET_IS\n",
      "dtypes: float64(110), int64(14)\n",
      "memory usage: 1.6 MB\n"
     ]
    }
   ],
   "source": [
    "#  exploring general Features Data types\n",
    "# The data set contains  float64(110), int64(14) Features\n",
    "df.info()"
   ]
  },
  {
   "cell_type": "code",
   "execution_count": 5,
   "metadata": {},
   "outputs": [
    {
     "data": {
      "text/html": [
       "<div>\n",
       "<style scoped>\n",
       "    .dataframe tbody tr th:only-of-type {\n",
       "        vertical-align: middle;\n",
       "    }\n",
       "\n",
       "    .dataframe tbody tr th {\n",
       "        vertical-align: top;\n",
       "    }\n",
       "\n",
       "    .dataframe thead th {\n",
       "        text-align: right;\n",
       "    }\n",
       "</style>\n",
       "<table border=\"1\" class=\"dataframe\">\n",
       "  <thead>\n",
       "    <tr style=\"text-align: right;\">\n",
       "      <th></th>\n",
       "      <th>ID</th>\n",
       "      <th>AGE</th>\n",
       "      <th>SEX</th>\n",
       "      <th>INF_ANAM</th>\n",
       "      <th>STENOK_AN</th>\n",
       "      <th>FK_STENOK</th>\n",
       "      <th>IBS_POST</th>\n",
       "      <th>IBS_NASL</th>\n",
       "      <th>GB</th>\n",
       "      <th>SIM_GIPERT</th>\n",
       "      <th>...</th>\n",
       "      <th>JELUD_TAH</th>\n",
       "      <th>FIBR_JELUD</th>\n",
       "      <th>A_V_BLOK</th>\n",
       "      <th>OTEK_LANC</th>\n",
       "      <th>RAZRIV</th>\n",
       "      <th>DRESSLER</th>\n",
       "      <th>ZSN</th>\n",
       "      <th>REC_IM</th>\n",
       "      <th>P_IM_STEN</th>\n",
       "      <th>LET_IS</th>\n",
       "    </tr>\n",
       "  </thead>\n",
       "  <tbody>\n",
       "    <tr>\n",
       "      <th>count</th>\n",
       "      <td>1700.000000</td>\n",
       "      <td>1692.000000</td>\n",
       "      <td>1700.000000</td>\n",
       "      <td>1696.000000</td>\n",
       "      <td>1594.000000</td>\n",
       "      <td>1627.000000</td>\n",
       "      <td>1649.000000</td>\n",
       "      <td>72.00000</td>\n",
       "      <td>1691.000000</td>\n",
       "      <td>1692.000000</td>\n",
       "      <td>...</td>\n",
       "      <td>1700.000000</td>\n",
       "      <td>1700.000000</td>\n",
       "      <td>1700.000000</td>\n",
       "      <td>1700.000000</td>\n",
       "      <td>1700.000000</td>\n",
       "      <td>1700.000000</td>\n",
       "      <td>1700.000000</td>\n",
       "      <td>1700.000000</td>\n",
       "      <td>1700.000000</td>\n",
       "      <td>1700.000000</td>\n",
       "    </tr>\n",
       "    <tr>\n",
       "      <th>mean</th>\n",
       "      <td>850.500000</td>\n",
       "      <td>61.856974</td>\n",
       "      <td>0.626471</td>\n",
       "      <td>0.554835</td>\n",
       "      <td>2.316186</td>\n",
       "      <td>1.205286</td>\n",
       "      <td>1.160703</td>\n",
       "      <td>0.37500</td>\n",
       "      <td>1.393258</td>\n",
       "      <td>0.033688</td>\n",
       "      <td>...</td>\n",
       "      <td>0.024706</td>\n",
       "      <td>0.041765</td>\n",
       "      <td>0.033529</td>\n",
       "      <td>0.093529</td>\n",
       "      <td>0.031765</td>\n",
       "      <td>0.044118</td>\n",
       "      <td>0.231765</td>\n",
       "      <td>0.093529</td>\n",
       "      <td>0.087059</td>\n",
       "      <td>0.477059</td>\n",
       "    </tr>\n",
       "    <tr>\n",
       "      <th>std</th>\n",
       "      <td>490.892045</td>\n",
       "      <td>11.259936</td>\n",
       "      <td>0.483883</td>\n",
       "      <td>0.836801</td>\n",
       "      <td>2.440586</td>\n",
       "      <td>1.040814</td>\n",
       "      <td>0.801400</td>\n",
       "      <td>0.48752</td>\n",
       "      <td>1.088803</td>\n",
       "      <td>0.180478</td>\n",
       "      <td>...</td>\n",
       "      <td>0.155273</td>\n",
       "      <td>0.200110</td>\n",
       "      <td>0.180067</td>\n",
       "      <td>0.291259</td>\n",
       "      <td>0.175425</td>\n",
       "      <td>0.205417</td>\n",
       "      <td>0.422084</td>\n",
       "      <td>0.291259</td>\n",
       "      <td>0.282004</td>\n",
       "      <td>1.381818</td>\n",
       "    </tr>\n",
       "    <tr>\n",
       "      <th>min</th>\n",
       "      <td>1.000000</td>\n",
       "      <td>26.000000</td>\n",
       "      <td>0.000000</td>\n",
       "      <td>0.000000</td>\n",
       "      <td>0.000000</td>\n",
       "      <td>0.000000</td>\n",
       "      <td>0.000000</td>\n",
       "      <td>0.00000</td>\n",
       "      <td>0.000000</td>\n",
       "      <td>0.000000</td>\n",
       "      <td>...</td>\n",
       "      <td>0.000000</td>\n",
       "      <td>0.000000</td>\n",
       "      <td>0.000000</td>\n",
       "      <td>0.000000</td>\n",
       "      <td>0.000000</td>\n",
       "      <td>0.000000</td>\n",
       "      <td>0.000000</td>\n",
       "      <td>0.000000</td>\n",
       "      <td>0.000000</td>\n",
       "      <td>0.000000</td>\n",
       "    </tr>\n",
       "    <tr>\n",
       "      <th>25%</th>\n",
       "      <td>425.750000</td>\n",
       "      <td>54.000000</td>\n",
       "      <td>0.000000</td>\n",
       "      <td>0.000000</td>\n",
       "      <td>0.000000</td>\n",
       "      <td>0.000000</td>\n",
       "      <td>0.000000</td>\n",
       "      <td>0.00000</td>\n",
       "      <td>0.000000</td>\n",
       "      <td>0.000000</td>\n",
       "      <td>...</td>\n",
       "      <td>0.000000</td>\n",
       "      <td>0.000000</td>\n",
       "      <td>0.000000</td>\n",
       "      <td>0.000000</td>\n",
       "      <td>0.000000</td>\n",
       "      <td>0.000000</td>\n",
       "      <td>0.000000</td>\n",
       "      <td>0.000000</td>\n",
       "      <td>0.000000</td>\n",
       "      <td>0.000000</td>\n",
       "    </tr>\n",
       "    <tr>\n",
       "      <th>50%</th>\n",
       "      <td>850.500000</td>\n",
       "      <td>63.000000</td>\n",
       "      <td>1.000000</td>\n",
       "      <td>0.000000</td>\n",
       "      <td>1.000000</td>\n",
       "      <td>2.000000</td>\n",
       "      <td>1.000000</td>\n",
       "      <td>0.00000</td>\n",
       "      <td>2.000000</td>\n",
       "      <td>0.000000</td>\n",
       "      <td>...</td>\n",
       "      <td>0.000000</td>\n",
       "      <td>0.000000</td>\n",
       "      <td>0.000000</td>\n",
       "      <td>0.000000</td>\n",
       "      <td>0.000000</td>\n",
       "      <td>0.000000</td>\n",
       "      <td>0.000000</td>\n",
       "      <td>0.000000</td>\n",
       "      <td>0.000000</td>\n",
       "      <td>0.000000</td>\n",
       "    </tr>\n",
       "    <tr>\n",
       "      <th>75%</th>\n",
       "      <td>1275.250000</td>\n",
       "      <td>70.000000</td>\n",
       "      <td>1.000000</td>\n",
       "      <td>1.000000</td>\n",
       "      <td>5.000000</td>\n",
       "      <td>2.000000</td>\n",
       "      <td>2.000000</td>\n",
       "      <td>1.00000</td>\n",
       "      <td>2.000000</td>\n",
       "      <td>0.000000</td>\n",
       "      <td>...</td>\n",
       "      <td>0.000000</td>\n",
       "      <td>0.000000</td>\n",
       "      <td>0.000000</td>\n",
       "      <td>0.000000</td>\n",
       "      <td>0.000000</td>\n",
       "      <td>0.000000</td>\n",
       "      <td>0.000000</td>\n",
       "      <td>0.000000</td>\n",
       "      <td>0.000000</td>\n",
       "      <td>0.000000</td>\n",
       "    </tr>\n",
       "    <tr>\n",
       "      <th>max</th>\n",
       "      <td>1700.000000</td>\n",
       "      <td>92.000000</td>\n",
       "      <td>1.000000</td>\n",
       "      <td>3.000000</td>\n",
       "      <td>6.000000</td>\n",
       "      <td>4.000000</td>\n",
       "      <td>2.000000</td>\n",
       "      <td>1.00000</td>\n",
       "      <td>3.000000</td>\n",
       "      <td>1.000000</td>\n",
       "      <td>...</td>\n",
       "      <td>1.000000</td>\n",
       "      <td>1.000000</td>\n",
       "      <td>1.000000</td>\n",
       "      <td>1.000000</td>\n",
       "      <td>1.000000</td>\n",
       "      <td>1.000000</td>\n",
       "      <td>1.000000</td>\n",
       "      <td>1.000000</td>\n",
       "      <td>1.000000</td>\n",
       "      <td>7.000000</td>\n",
       "    </tr>\n",
       "  </tbody>\n",
       "</table>\n",
       "<p>8 rows × 124 columns</p>\n",
       "</div>"
      ],
      "text/plain": [
       "                ID          AGE          SEX     INF_ANAM    STENOK_AN  \\\n",
       "count  1700.000000  1692.000000  1700.000000  1696.000000  1594.000000   \n",
       "mean    850.500000    61.856974     0.626471     0.554835     2.316186   \n",
       "std     490.892045    11.259936     0.483883     0.836801     2.440586   \n",
       "min       1.000000    26.000000     0.000000     0.000000     0.000000   \n",
       "25%     425.750000    54.000000     0.000000     0.000000     0.000000   \n",
       "50%     850.500000    63.000000     1.000000     0.000000     1.000000   \n",
       "75%    1275.250000    70.000000     1.000000     1.000000     5.000000   \n",
       "max    1700.000000    92.000000     1.000000     3.000000     6.000000   \n",
       "\n",
       "         FK_STENOK     IBS_POST  IBS_NASL           GB   SIM_GIPERT  ...  \\\n",
       "count  1627.000000  1649.000000  72.00000  1691.000000  1692.000000  ...   \n",
       "mean      1.205286     1.160703   0.37500     1.393258     0.033688  ...   \n",
       "std       1.040814     0.801400   0.48752     1.088803     0.180478  ...   \n",
       "min       0.000000     0.000000   0.00000     0.000000     0.000000  ...   \n",
       "25%       0.000000     0.000000   0.00000     0.000000     0.000000  ...   \n",
       "50%       2.000000     1.000000   0.00000     2.000000     0.000000  ...   \n",
       "75%       2.000000     2.000000   1.00000     2.000000     0.000000  ...   \n",
       "max       4.000000     2.000000   1.00000     3.000000     1.000000  ...   \n",
       "\n",
       "         JELUD_TAH   FIBR_JELUD     A_V_BLOK    OTEK_LANC       RAZRIV  \\\n",
       "count  1700.000000  1700.000000  1700.000000  1700.000000  1700.000000   \n",
       "mean      0.024706     0.041765     0.033529     0.093529     0.031765   \n",
       "std       0.155273     0.200110     0.180067     0.291259     0.175425   \n",
       "min       0.000000     0.000000     0.000000     0.000000     0.000000   \n",
       "25%       0.000000     0.000000     0.000000     0.000000     0.000000   \n",
       "50%       0.000000     0.000000     0.000000     0.000000     0.000000   \n",
       "75%       0.000000     0.000000     0.000000     0.000000     0.000000   \n",
       "max       1.000000     1.000000     1.000000     1.000000     1.000000   \n",
       "\n",
       "          DRESSLER          ZSN       REC_IM    P_IM_STEN       LET_IS  \n",
       "count  1700.000000  1700.000000  1700.000000  1700.000000  1700.000000  \n",
       "mean      0.044118     0.231765     0.093529     0.087059     0.477059  \n",
       "std       0.205417     0.422084     0.291259     0.282004     1.381818  \n",
       "min       0.000000     0.000000     0.000000     0.000000     0.000000  \n",
       "25%       0.000000     0.000000     0.000000     0.000000     0.000000  \n",
       "50%       0.000000     0.000000     0.000000     0.000000     0.000000  \n",
       "75%       0.000000     0.000000     0.000000     0.000000     0.000000  \n",
       "max       1.000000     1.000000     1.000000     1.000000     7.000000  \n",
       "\n",
       "[8 rows x 124 columns]"
      ]
     },
     "execution_count": 5,
     "metadata": {},
     "output_type": "execute_result"
    }
   ],
   "source": [
    "# exploring general statistics about the data set ( Features Data types, Mean , Max , min ....)\n",
    "# we can see that some features clearly contain NAN values\n",
    "df.describe()"
   ]
  },
  {
   "cell_type": "markdown",
   "metadata": {},
   "source": [
    "#### - Missing values "
   ]
  },
  {
   "cell_type": "code",
   "execution_count": 6,
   "metadata": {},
   "outputs": [
    {
     "data": {
      "image/png": "[encoded data removed]",
      "text/plain": [
       "<Figure size 432x288 with 1 Axes>"
      ]
     },
     "metadata": {
      "needs_background": "light"
     },
     "output_type": "display_data"
    }
   ],
   "source": [
    "# show the top 15 features with missing values \n",
    "df.isna().sum(axis=0).nlargest(15).sort_values().plot(kind='barh')\n",
    "plt.grid()\n",
    "plt.yticks(rotation=45)\n",
    "plt.show()"
   ]
  },
  {
   "cell_type": "code",
   "execution_count": 7,
   "metadata": {},
   "outputs": [],
   "source": [
    "# extract the features with very high percentage of missing values \n",
    "# we make a function to map the features with high numbe of NAN to 'Nan' and 'OK' otherwise\n",
    "def ExtractNans(x):\n",
    "    isnan = False\n",
    "    if x > 0.3 :\n",
    "        isnan = True\n",
    "    return isnan\n",
    "df_sorted_by_nans = df.isna().sum(axis=0).divide(len(df)).sort_values(ascending=False)"
   ]
  },
  {
   "cell_type": "code",
   "execution_count": 8,
   "metadata": {},
   "outputs": [
    {
     "data": {
      "text/plain": [
       "7"
      ]
     },
     "execution_count": 8,
     "metadata": {},
     "output_type": "execute_result"
    }
   ],
   "source": [
    "# we found 7 features with more than 30% of NANs \n",
    "df_sorted_by_nans.apply(ExtractNans).sum(axis=0)"
   ]
  },
  {
   "cell_type": "code",
   "execution_count": 9,
   "metadata": {},
   "outputs": [
    {
     "name": "stdout",
     "output_type": "stream",
     "text": [
      "['KFK_BLOOD', 'IBS_NASL', 'S_AD_KBRIG', 'D_AD_KBRIG', 'NOT_NA_KB', 'LID_KB', 'NA_KB']\n"
     ]
    }
   ],
   "source": [
    "# to drop these features we need to extract the feature names and save it to a list \n",
    "f_to_drop = df_sorted_by_nans[df_sorted_by_nans.apply(ExtractNans) == True].index.tolist()\n",
    "print(f_to_drop)"
   ]
  },
  {
   "cell_type": "markdown",
   "metadata": {},
   "source": [
    "#### - Cardinality check :"
   ]
  },
  {
   "cell_type": "code",
   "execution_count": 10,
   "metadata": {},
   "outputs": [
    {
     "data": {
      "image/png": "[encoded data removed]",
      "text/plain": [
       "<Figure size 432x288 with 1 Axes>"
      ]
     },
     "metadata": {
      "needs_background": "light"
     },
     "output_type": "display_data"
    },
    {
     "data": {
      "text/plain": [
       "ID               1700\n",
       "L_BLOOD           174\n",
       "ALT_BLOOD          69\n",
       "AGE                62\n",
       "ROE                58\n",
       "                 ... \n",
       "ritm_ecg_p_04       2\n",
       "ritm_ecg_p_02       2\n",
       "ritm_ecg_p_01       2\n",
       "IM_PG_P             2\n",
       "n_r_ecg_p_09        2\n",
       "Length: 124, dtype: int64"
      ]
     },
     "execution_count": 10,
     "metadata": {},
     "output_type": "execute_result"
    }
   ],
   "source": [
    "# plot the feature cardinality in descending order\n",
    "df.nunique().nlargest(15).sort_values().plot(kind='barh')\n",
    "plt.grid()\n",
    "plt.yticks(rotation=45)\n",
    "plt.show()\n",
    "df.nunique().sort_values(ascending=False)"
   ]
  },
  {
   "cell_type": "code",
   "execution_count": 11,
   "metadata": {},
   "outputs": [
    {
     "name": "stdout",
     "output_type": "stream",
     "text": [
      "We found 89 Binary_features including : \n",
      " ['SEX', 'IBS_NASL', 'SIM_GIPERT', 'nr_11', 'nr_01', 'nr_02', 'nr_03', 'nr_04', 'nr_07', 'nr_08'] ....\n"
     ]
    }
   ],
   "source": [
    "# extract the Binary features \n",
    "feature_cardinality = df.nunique()\n",
    "Binary = feature_cardinality[feature_cardinality == 2].index.tolist()\n",
    "print(f'We found {len(Binary)} Binary_features including : \\n {Binary[:10]} ....' )"
   ]
  },
  {
   "cell_type": "markdown",
   "metadata": {},
   "source": [
    "#### - Duplicates Removal"
   ]
  },
  {
   "cell_type": "code",
   "execution_count": 12,
   "metadata": {},
   "outputs": [
    {
     "name": "stdout",
     "output_type": "stream",
     "text": [
      "the number of dublicated records in the data set = 0 records\n"
     ]
    }
   ],
   "source": [
    "# we must drop the ID beacuse it's unique for each record \n",
    "# we will extract the duplicated records ( records that are Identical in both features and lables)\n",
    "dup = df.drop(columns=['ID'] , axis=0).duplicated().sum()\n",
    "print(f'the number of dublicated records in the data set = {dup} records')"
   ]
  },
  {
   "cell_type": "markdown",
   "metadata": {},
   "source": [
    "## Data Preprocessing "
   ]
  },
  {
   "cell_type": "markdown",
   "metadata": {},
   "source": [
    "\n",
    "in general there are some preprocessing can be applied despite of the case we are examining :"
   ]
  },
  {
   "cell_type": "markdown",
   "metadata": {},
   "source": [
    "#### 1-Handling missing values:\n"
   ]
  },
  {
   "cell_type": "code",
   "execution_count": 13,
   "metadata": {},
   "outputs": [
    {
     "name": "stdout",
     "output_type": "stream",
     "text": [
      "The dropped columns are ['KFK_BLOOD', 'IBS_NASL', 'S_AD_KBRIG', 'D_AD_KBRIG', 'NOT_NA_KB', 'LID_KB', 'NA_KB', 'ID']\n"
     ]
    }
   ],
   "source": [
    "# Remove columns with many NANs :\n",
    "f_to_drop.append('ID')\n",
    "print(f'The dropped columns are {f_to_drop}')\n",
    "df.drop(columns = f_to_drop , axis = 0 , inplace=True)"
   ]
  },
  {
   "cell_type": "code",
   "execution_count": 14,
   "metadata": {},
   "outputs": [
    {
     "data": {
      "text/plain": [
       "(1700, 116)"
      ]
     },
     "execution_count": 14,
     "metadata": {},
     "output_type": "execute_result"
    }
   ],
   "source": [
    "df.shape"
   ]
  },
  {
   "cell_type": "markdown",
   "metadata": {},
   "source": [
    "- Filling missing values  :\n"
   ]
  },
  {
   "cell_type": "markdown",
   "metadata": {},
   "source": [
    "###### A- Binary Fearutes"
   ]
  },
  {
   "cell_type": "code",
   "execution_count": 15,
   "metadata": {},
   "outputs": [
    {
     "data": {
      "text/plain": [
       "85"
      ]
     },
     "execution_count": 15,
     "metadata": {},
     "output_type": "execute_result"
    }
   ],
   "source": [
    "feature_cardinality = df.nunique()\n",
    "Binary_features = feature_cardinality[feature_cardinality == 2].index.tolist()\n",
    "len(Binary_features)"
   ]
  },
  {
   "cell_type": "code",
   "execution_count": 16,
   "metadata": {},
   "outputs": [
    {
     "data": {
      "text/plain": [
       "GIPER_NA         22.058824\n",
       "GIPO_K           21.705882\n",
       "ritm_ecg_p_02     8.941176\n",
       "ritm_ecg_p_04     8.941176\n",
       "ritm_ecg_p_06     8.941176\n",
       "                   ...    \n",
       "FIBR_JELUD        0.000000\n",
       "JELUD_TAH         0.000000\n",
       "PREDS_TAH         0.000000\n",
       "FIBR_PREDS        0.000000\n",
       "P_IM_STEN         0.000000\n",
       "Length: 85, dtype: float64"
      ]
     },
     "execution_count": 16,
     "metadata": {},
     "output_type": "execute_result"
    }
   ],
   "source": [
    "df[Binary_features].isna().sum().sort_values(ascending = False)*100/len(df)"
   ]
  },
  {
   "cell_type": "code",
   "execution_count": 17,
   "metadata": {},
   "outputs": [],
   "source": [
    "# In order to avoid Biasing the data we can not choose 1 or zero as fixed value to be filled with\n",
    "# we can not use sklearn imputers here since it will either :\n",
    "# average the values of the knighbours (KNN imputer) - take the mean or most frequent (simple imputer)\n",
    "# we will choose forward fill just to add randomness to the filling process \n",
    "df[Binary_features] = df[Binary_features].fillna(method='ffill')"
   ]
  },
  {
   "cell_type": "markdown",
   "metadata": {},
   "source": [
    "###### B- Float Fearutes"
   ]
  },
  {
   "cell_type": "code",
   "execution_count": 26,
   "metadata": {},
   "outputs": [
    {
     "name": "stdout",
     "output_type": "stream",
     "text": [
      "The data set has 31 not binary features most of them contain missing values\n"
     ]
    }
   ],
   "source": [
    "float_features = [x for x in df.columns.tolist() if x not in Binary_features]\n",
    "print(f'The data set has {len(float_features)} not binary features most of them contain missing values') "
   ]
  },
  {
   "cell_type": "code",
   "execution_count": 25,
   "metadata": {},
   "outputs": [
    {
     "name": "stdout",
     "output_type": "stream",
     "text": [
      "<class 'pandas.core.frame.DataFrame'>\n",
      "RangeIndex: 1700 entries, 0 to 1699\n",
      "Data columns (total 31 columns):\n",
      " #   Column      Non-Null Count  Dtype  \n",
      "---  ------      --------------  -----  \n",
      " 0   AGE         1692 non-null   float64\n",
      " 1   INF_ANAM    1696 non-null   float64\n",
      " 2   STENOK_AN   1594 non-null   float64\n",
      " 3   FK_STENOK   1627 non-null   float64\n",
      " 4   IBS_POST    1649 non-null   float64\n",
      " 5   GB          1691 non-null   float64\n",
      " 6   DLIT_AG     1452 non-null   float64\n",
      " 7   ZSN_A       1646 non-null   float64\n",
      " 8   S_AD_ORIT   1433 non-null   float64\n",
      " 9   D_AD_ORIT   1433 non-null   float64\n",
      " 10  ant_im      1617 non-null   float64\n",
      " 11  lat_im      1620 non-null   float64\n",
      " 12  inf_im      1620 non-null   float64\n",
      " 13  post_im     1628 non-null   float64\n",
      " 14  K_BLOOD     1329 non-null   float64\n",
      " 15  NA_BLOOD    1325 non-null   float64\n",
      " 16  ALT_BLOOD   1416 non-null   float64\n",
      " 17  AST_BLOOD   1415 non-null   float64\n",
      " 18  L_BLOOD     1575 non-null   float64\n",
      " 19  ROE         1497 non-null   float64\n",
      " 20  TIME_B_S    1574 non-null   float64\n",
      " 21  R_AB_1_n    1684 non-null   float64\n",
      " 22  R_AB_2_n    1592 non-null   float64\n",
      " 23  R_AB_3_n    1572 non-null   float64\n",
      " 24  NA_R_1_n    1695 non-null   float64\n",
      " 25  NA_R_2_n    1592 non-null   float64\n",
      " 26  NA_R_3_n    1569 non-null   float64\n",
      " 27  NOT_NA_1_n  1690 non-null   float64\n",
      " 28  NOT_NA_2_n  1590 non-null   float64\n",
      " 29  NOT_NA_3_n  1569 non-null   float64\n",
      " 30  LET_IS      1700 non-null   int64  \n",
      "dtypes: float64(30), int64(1)\n",
      "memory usage: 411.8 KB\n"
     ]
    }
   ],
   "source": [
    "df[float_features].info()"
   ]
  },
  {
   "cell_type": "code",
   "execution_count": 27,
   "metadata": {},
   "outputs": [
    {
     "data": {
      "text/plain": [
       "AGE          61.856974\n",
       "SEX           0.626471\n",
       "INF_ANAM      0.554835\n",
       "STENOK_AN     2.316186\n",
       "FK_STENOK     1.205286\n",
       "               ...    \n",
       "DRESSLER      0.044118\n",
       "ZSN           0.231765\n",
       "REC_IM        0.093529\n",
       "P_IM_STEN     0.087059\n",
       "LET_IS        0.477059\n",
       "Length: 116, dtype: float64"
      ]
     },
     "execution_count": 27,
     "metadata": {},
     "output_type": "execute_result"
    }
   ],
   "source": [
    "# we choose the simple imputer with filling with mean strategy \n",
    "# since we already filled the binary columns we can apply sklearn simple imputer to the entire data frame "
   ]
  },
  {
   "cell_type": "code",
   "execution_count": null,
   "metadata": {},
   "outputs": [],
   "source": [
    "for c in columns"
   ]
  }
 ],
 "metadata": {
  "kernelspec": {
   "display_name": "Python 3",
   "language": "python",
   "name": "python3"
  },
  "language_info": {
   "codemirror_mode": {
    "name": "ipython",
    "version": 3
   },
   "file_extension": ".py",
   "mimetype": "text/x-python",
   "name": "python",
   "nbconvert_exporter": "python",
   "pygments_lexer": "ipython3",
   "version": "3.8.5"
  }
 },
 "nbformat": 4,
 "nbformat_minor": 4
}
